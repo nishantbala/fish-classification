{
 "cells": [
  {
   "cell_type": "markdown",
   "metadata": {
    "colab_type": "text",
    "id": "0MRC0e0KhQ0S"
   },
   "source": [
    "# Lab 4\n",
    "\n",
    "**Name:** Nishant Balasubramanian\n",
    "\n",
    "**Course:** AI in Enterprise Systems\n",
    "\n",
    "**Course Code:** AIDI2004"
   ]
  },
  {
   "cell_type": "markdown",
   "metadata": {
    "colab_type": "text",
    "id": "LWd1UlMnhT2s"
   },
   "source": [
    "## Importing the libraries"
   ]
  },
  {
   "cell_type": "code",
   "execution_count": 1,
   "metadata": {
    "colab": {},
    "colab_type": "code",
    "id": "YvGPUQaHhXfL"
   },
   "outputs": [],
   "source": [
    "import numpy as np\n",
    "import matplotlib.pyplot as plt\n",
    "import pandas as pd\n",
    "import pickle"
   ]
  },
  {
   "cell_type": "markdown",
   "metadata": {
    "colab_type": "text",
    "id": "K1VMqkGvhc3-"
   },
   "source": [
    "## Importing the dataset"
   ]
  },
  {
   "cell_type": "code",
   "execution_count": 2,
   "metadata": {
    "colab": {},
    "colab_type": "code",
    "id": "M52QDmyzhh9s"
   },
   "outputs": [],
   "source": [
    "data = pd.read_csv('Fish.csv')\n",
    "X = data.drop('Species', axis = 1)\n",
    "y = data['Species']"
   ]
  },
  {
   "cell_type": "markdown",
   "metadata": {
    "colab_type": "text",
    "id": "YvxIPVyMhmKp"
   },
   "source": [
    "## Splitting the dataset into the Training set and Test set"
   ]
  },
  {
   "cell_type": "code",
   "execution_count": 3,
   "metadata": {
    "colab": {},
    "colab_type": "code",
    "id": "AVzJWAXIhxoC"
   },
   "outputs": [],
   "source": [
    "from sklearn.model_selection import train_test_split\n",
    "X_train, X_test, y_train, y_test = train_test_split(X, y, test_size = 0.3, random_state = 0)"
   ]
  },
  {
   "cell_type": "code",
   "execution_count": 4,
   "metadata": {
    "colab": {
     "base_uri": "https://localhost:8080/",
     "height": 1000
    },
    "colab_type": "code",
    "executionInfo": {
     "elapsed": 2163,
     "status": "ok",
     "timestamp": 1588265315502,
     "user": {
      "displayName": "Hadelin de Ponteves",
      "photoUrl": "https://lh3.googleusercontent.com/a-/AOh14GhEuXdT7eQweUmRPW8_laJuPggSK6hfvpl5a6WBaA=s64",
      "userId": "15047218817161520419"
     },
     "user_tz": -240
    },
    "id": "P3nS3-6r1i2B",
    "outputId": "75d6e0cf-d13b-42cf-a353-888682415d37"
   },
   "outputs": [
    {
     "name": "stdout",
     "output_type": "stream",
     "text": [
      "     Weight  Length1  Length2  Length3   Height   Width\n",
      "18    610.0     30.9     33.5     38.6  15.6330  5.1338\n",
      "108   320.0     27.8     30.0     31.6   7.6156  4.7716\n",
      "30    920.0     35.0     38.5     44.1  18.0369  6.3063\n",
      "73     32.0     12.5     13.7     14.7   3.5280  1.9992\n",
      "156    12.2     12.1     13.0     13.8   2.2770  1.2558\n",
      "..      ...      ...      ...      ...      ...     ...\n",
      "9     500.0     28.5     30.7     36.2  14.2266  4.9594\n",
      "103   260.0     25.4     27.5     28.9   7.1672  4.3350\n",
      "67    170.0     19.0     20.7     23.2   9.3960  3.4104\n",
      "117   650.0     36.5     39.0     41.4  11.1366  6.0030\n",
      "47    160.0     21.1     22.5     25.0   6.4000  3.8000\n",
      "\n",
      "[111 rows x 6 columns]\n"
     ]
    }
   ],
   "source": [
    "print(X_train)"
   ]
  },
  {
   "cell_type": "code",
   "execution_count": 5,
   "metadata": {
    "colab": {
     "base_uri": "https://localhost:8080/",
     "height": 171
    },
    "colab_type": "code",
    "executionInfo": {
     "elapsed": 2158,
     "status": "ok",
     "timestamp": 1588265315502,
     "user": {
      "displayName": "Hadelin de Ponteves",
      "photoUrl": "https://lh3.googleusercontent.com/a-/AOh14GhEuXdT7eQweUmRPW8_laJuPggSK6hfvpl5a6WBaA=s64",
      "userId": "15047218817161520419"
     },
     "user_tz": -240
    },
    "id": "8dpDLojm1mVG",
    "outputId": "7ae11087-76ab-4027-c94e-9eb18f7573bf"
   },
   "outputs": [
    {
     "name": "stdout",
     "output_type": "stream",
     "text": [
      "18      Bream\n",
      "108     Perch\n",
      "30      Bream\n",
      "73      Perch\n",
      "156     Smelt\n",
      "        ...  \n",
      "9       Bream\n",
      "103     Perch\n",
      "67     Parkki\n",
      "117     Perch\n",
      "47      Roach\n",
      "Name: Species, Length: 111, dtype: object\n"
     ]
    }
   ],
   "source": [
    "print(y_train)"
   ]
  },
  {
   "cell_type": "code",
   "execution_count": 6,
   "metadata": {
    "colab": {
     "base_uri": "https://localhost:8080/",
     "height": 1000
    },
    "colab_type": "code",
    "executionInfo": {
     "elapsed": 2154,
     "status": "ok",
     "timestamp": 1588265315503,
     "user": {
      "displayName": "Hadelin de Ponteves",
      "photoUrl": "https://lh3.googleusercontent.com/a-/AOh14GhEuXdT7eQweUmRPW8_laJuPggSK6hfvpl5a6WBaA=s64",
      "userId": "15047218817161520419"
     },
     "user_tz": -240
    },
    "id": "qbb7i0DH1qui",
    "outputId": "94e717d7-fa9a-4e22-9c68-d43421cbfb92"
   },
   "outputs": [
    {
     "name": "stdout",
     "output_type": "stream",
     "text": [
      "     Weight  Length1  Length2  Length3   Height   Width\n",
      "7     390.0     27.6     30.0     35.0  12.6700  4.6900\n",
      "40      0.0     19.0     20.5     22.8   6.4752  3.3516\n",
      "95    170.0     21.5     23.5     25.0   6.2750  3.7250\n",
      "45    160.0     20.5     22.5     25.3   7.0334  3.8203\n",
      "110   556.0     32.0     34.5     36.5  10.2565  6.3875\n",
      "120   900.0     37.0     40.0     42.5  11.7300  7.2250\n",
      "59    800.0     33.7     36.4     39.6  11.7612  6.5736\n",
      "131   300.0     34.8     37.3     39.8   6.2884  4.0198\n",
      "33    975.0     37.4     41.0     45.9  18.6354  6.7473\n",
      "83    115.0     19.0     21.0     22.5   5.9175  3.3075\n",
      "128   200.0     30.0     32.3     34.8   5.5680  3.3756\n",
      "134   456.0     40.0     42.5     45.5   7.2800  4.3225\n",
      "60   1000.0     37.3     40.0     43.5  12.3540  6.5250\n",
      "126  1000.0     40.2     43.5     46.0  12.6040  8.1420\n",
      "62     60.0     14.3     15.5     17.4   6.5772  2.3142\n",
      "37     78.0     17.5     18.8     21.2   5.5756  2.9044\n",
      "44    145.0     20.5     22.0     24.3   6.6339  3.5478\n",
      "142  1600.0     56.0     60.0     64.0   9.6000  6.1440\n",
      "85    130.0     19.3     21.3     22.8   6.3840  3.5340\n",
      "26    720.0     32.0     35.0     40.6  16.3618  6.0900\n",
      "61     55.0     13.5     14.7     16.5   6.8475  2.3265\n",
      "54    390.0     29.5     31.7     35.0   9.4850  5.3550\n",
      "86    120.0     20.0     22.0     23.5   6.1100  3.4075\n",
      "144  1650.0     59.0     63.4     68.0  10.8120  7.4800\n",
      "63     90.0     16.3     17.7     19.8   7.4052  2.6730\n",
      "8     450.0     27.6     30.0     35.1  14.0049  4.8438\n",
      "24    700.0     31.9     35.0     40.5  16.2405  5.5890\n",
      "56    270.0     24.1     26.5     29.3   8.1454  4.2485\n",
      "119   850.0     36.9     40.0     42.3  11.9286  7.1064\n",
      "148     9.7     10.4     11.0     12.0   2.1960  1.3800\n",
      "19    650.0     31.0     33.5     38.7  14.4738  5.7276\n",
      "90    110.0     20.0     22.0     23.5   5.5225  3.9950\n",
      "143  1550.0     56.0     60.0     64.0   9.6000  6.1440\n",
      "130   300.0     32.7     35.0     38.8   5.9364  4.3844\n",
      "16    700.0     30.4     33.0     38.3  14.8604  5.2854\n",
      "96    225.0     22.0     24.0     25.5   7.2930  3.7230\n",
      "107   300.0     26.9     28.7     30.1   7.5852  4.6354\n",
      "22    620.0     31.5     34.5     39.7  15.5227  5.2801\n",
      "113   700.0     34.0     36.0     38.3  10.6091  6.7408\n",
      "89    135.0     20.0     22.0     23.5   5.8750  3.5250\n",
      "109   514.0     30.5     32.8     34.0  10.0300  6.0180\n",
      "74     40.0     13.8     15.0     16.0   3.8240  2.4320\n",
      "97    145.0     22.0     24.0     25.5   6.3750  3.8250\n",
      "27    714.0     32.7     36.0     41.5  16.5170  5.8515\n",
      "157    19.7     13.2     14.3     15.2   2.8728  2.0672\n",
      "100   197.0     23.5     25.6     27.0   6.5610  4.2390\n",
      "51    180.0     23.6     25.2     27.9   7.0866  3.9060\n",
      "101   218.0     25.0     26.5     28.0   7.1680  4.1440\n"
     ]
    }
   ],
   "source": [
    "print(X_test)"
   ]
  },
  {
   "cell_type": "code",
   "execution_count": 7,
   "metadata": {
    "colab": {
     "base_uri": "https://localhost:8080/",
     "height": 68
    },
    "colab_type": "code",
    "executionInfo": {
     "elapsed": 2149,
     "status": "ok",
     "timestamp": 1588265315503,
     "user": {
      "displayName": "Hadelin de Ponteves",
      "photoUrl": "https://lh3.googleusercontent.com/a-/AOh14GhEuXdT7eQweUmRPW8_laJuPggSK6hfvpl5a6WBaA=s64",
      "userId": "15047218817161520419"
     },
     "user_tz": -240
    },
    "id": "kj1hnFAR1s5w",
    "outputId": "ec9924c4-6d8a-4f20-dbf9-272fbaa24f92"
   },
   "outputs": [
    {
     "name": "stdout",
     "output_type": "stream",
     "text": [
      "7          Bream\n",
      "40         Roach\n",
      "95         Perch\n",
      "45         Roach\n",
      "110        Perch\n",
      "120        Perch\n",
      "59     Whitefish\n",
      "131         Pike\n",
      "33         Bream\n",
      "83         Perch\n",
      "128         Pike\n",
      "134         Pike\n",
      "60     Whitefish\n",
      "126        Perch\n",
      "62        Parkki\n",
      "37         Roach\n",
      "44         Roach\n",
      "142         Pike\n",
      "85         Perch\n",
      "26         Bream\n",
      "61        Parkki\n",
      "54         Roach\n",
      "86         Perch\n",
      "144         Pike\n",
      "63        Parkki\n",
      "8          Bream\n",
      "24         Bream\n",
      "56     Whitefish\n",
      "119        Perch\n",
      "148        Smelt\n",
      "19         Bream\n",
      "90         Perch\n",
      "143         Pike\n",
      "130         Pike\n",
      "16         Bream\n",
      "96         Perch\n",
      "107        Perch\n",
      "22         Bream\n",
      "113        Perch\n",
      "89         Perch\n",
      "109        Perch\n",
      "74         Perch\n",
      "97         Perch\n",
      "27         Bream\n",
      "157        Smelt\n",
      "100        Perch\n",
      "51         Roach\n",
      "101        Perch\n",
      "Name: Species, dtype: object\n"
     ]
    }
   ],
   "source": [
    "print(y_test)"
   ]
  },
  {
   "cell_type": "markdown",
   "metadata": {
    "colab_type": "text",
    "id": "kW3c7UYih0hT"
   },
   "source": [
    "## Feature Scaling"
   ]
  },
  {
   "cell_type": "code",
   "execution_count": 8,
   "metadata": {
    "colab": {},
    "colab_type": "code",
    "id": "9fQlDPKCh8sc"
   },
   "outputs": [],
   "source": [
    "from sklearn.preprocessing import StandardScaler\n",
    "sc_X = StandardScaler()\n",
    "X_train = sc_X.fit_transform(X_train)\n",
    "X_test = sc_X.transform(X_test)\n",
    "filename = 'standardscaler.pkl'\n",
    "pickle.dump(sc_X, open(filename, 'wb'))"
   ]
  },
  {
   "cell_type": "markdown",
   "metadata": {
    "colab_type": "text",
    "id": "bb6jCOCQiAmP"
   },
   "source": [
    "## Training the Logistic Regression model on the Training set"
   ]
  },
  {
   "cell_type": "code",
   "execution_count": 9,
   "metadata": {
    "colab": {
     "base_uri": "https://localhost:8080/",
     "height": 103
    },
    "colab_type": "code",
    "executionInfo": {
     "elapsed": 2125,
     "status": "ok",
     "timestamp": 1588265315505,
     "user": {
      "displayName": "Hadelin de Ponteves",
      "photoUrl": "https://lh3.googleusercontent.com/a-/AOh14GhEuXdT7eQweUmRPW8_laJuPggSK6hfvpl5a6WBaA=s64",
      "userId": "15047218817161520419"
     },
     "user_tz": -240
    },
    "id": "e0pFVAmciHQs",
    "outputId": "67f64468-abdb-4fe7-cce9-de0037119610"
   },
   "outputs": [
    {
     "name": "stdout",
     "output_type": "stream",
     "text": [
      "Score: 83.33333333333334%\n"
     ]
    }
   ],
   "source": [
    "from sklearn.linear_model import LogisticRegression\n",
    "classifier = LogisticRegression(random_state=10)\n",
    "classifier.fit(X_train, y_train)\n",
    "\n",
    "print(\"Score: \"+ str(classifier.score(X_test, y_test) * 100) + \"%\")"
   ]
  },
  {
   "cell_type": "markdown",
   "metadata": {
    "colab_type": "text",
    "id": "vKYVQH-l5NpE"
   },
   "source": [
    "## Saving the classifier"
   ]
  },
  {
   "cell_type": "code",
   "execution_count": 10,
   "metadata": {},
   "outputs": [],
   "source": [
    "filename = 'classifier.pkl'\n",
    "pickle.dump(classifier, open(filename, 'wb'))"
   ]
  },
  {
   "cell_type": "markdown",
   "metadata": {},
   "source": [
    "## Printing Metrics"
   ]
  },
  {
   "cell_type": "code",
   "execution_count": 11,
   "metadata": {},
   "outputs": [
    {
     "name": "stdout",
     "output_type": "stream",
     "text": [
      "[[ 4.48125620e-02  2.25136210e-01  2.37598181e-01  4.14688714e-01\n",
      "   8.47184081e-01  2.17531741e-01]\n",
      " [-1.15750278e+00 -6.78247673e-01 -6.91731500e-01 -6.81274315e-01\n",
      "  -5.50302093e-01 -5.65152627e-01]\n",
      " [-6.33416606e-01 -4.15636079e-01 -3.98258969e-01 -4.83641638e-01\n",
      "  -5.95465251e-01 -3.46791641e-01]\n",
      " [-6.64245205e-01 -5.20680717e-01 -4.96083146e-01 -4.56691727e-01\n",
      "  -4.24377643e-01 -2.91061052e-01]\n",
      " [ 5.56567298e-01  6.87332615e-01  6.77806977e-01  5.49438266e-01\n",
      "   3.02722132e-01  1.21021458e+00]\n",
      " [ 1.61707109e+00  1.21255580e+00  1.21583995e+00  1.08843648e+00\n",
      "   6.35129292e-01  1.69997710e+00]\n",
      " [ 1.30878510e+00  8.65908499e-01  8.63672914e-01  8.27920675e-01\n",
      "   6.42167707e-01  1.31904420e+00]\n",
      " [-2.32644825e-01  9.81457600e-01  9.51714673e-01  8.45887282e-01\n",
      "  -5.92442342e-01 -1.74395234e-01]\n",
      " [ 1.84828558e+00  1.25457366e+00  1.31366413e+00  1.39386880e+00\n",
      "   2.19291986e+00  1.42062241e+00]\n",
      " [-8.02973899e-01 -6.78247673e-01 -6.42819411e-01 -7.08224226e-01\n",
      "  -6.76113748e-01 -5.90941913e-01]\n",
      " [-5.40930811e-01  4.77243340e-01  4.62593788e-01  3.96722107e-01\n",
      "  -7.54957523e-01 -5.51117641e-01]\n",
      " [ 2.48281313e-01  1.52768972e+00  1.46040039e+00  1.35793558e+00\n",
      "  -3.68747100e-01  2.62102304e-03]\n",
      " [ 1.92535707e+00  1.24406919e+00  1.21583995e+00  1.17826951e+00\n",
      "   7.75897577e-01  1.29062335e+00]\n",
      " [ 1.92535707e+00  1.54869864e+00  1.55822457e+00  1.40285210e+00\n",
      "   8.32295127e-01  2.23623051e+00]\n",
      " [-9.72531191e-01 -1.17195747e+00 -1.18085238e+00 -1.16637270e+00\n",
      "  -5.27291892e-01 -1.17181488e+00]\n",
      " [-9.17039713e-01 -8.35814630e-01 -8.58032601e-01 -8.25007171e-01\n",
      "  -7.53243037e-01 -8.26671193e-01]\n",
      " [-7.10488103e-01 -5.20680717e-01 -5.44995235e-01 -5.46524762e-01\n",
      "  -5.14500928e-01 -4.50416619e-01]\n",
      " [ 3.77507299e+00  3.20840392e+00  3.17232349e+00  3.01984673e+00\n",
      "   1.54622165e-01  1.06781796e+00]\n",
      " [-7.56731001e-01 -6.46734282e-01 -6.13472158e-01 -6.81274315e-01\n",
      "  -5.70875919e-01 -4.58486736e-01]\n",
      " [ 1.06215631e+00  6.87332615e-01  7.26719066e-01  9.17753710e-01\n",
      "   1.68001798e+00  1.03623924e+00]\n",
      " [-9.87945490e-01 -1.25599318e+00 -1.25911173e+00 -1.24722244e+00\n",
      "  -4.66314861e-01 -1.16462195e+00]\n",
      " [ 4.48125620e-02  4.24721021e-01  4.03899282e-01  4.14688714e-01\n",
      "   1.28679292e-01  6.06417803e-01]\n",
      " [-7.87559599e-01 -5.73203036e-01 -5.44995235e-01 -6.18391191e-01\n",
      "  -6.32687634e-01 -5.32462806e-01]\n",
      " [ 3.92921598e+00  3.52353783e+00  3.50492569e+00  3.37917887e+00\n",
      "   4.28037488e-01  1.84909883e+00]\n",
      " [-8.80045395e-01 -9.61868195e-01 -9.65639195e-01 -9.50773421e-01\n",
      "  -3.40503206e-01 -9.61991847e-01]\n",
      " [ 2.29784153e-01  2.25136210e-01  2.37598181e-01  4.23672017e-01\n",
      "   1.14832444e+00  3.07472608e-01]\n",
      " [ 1.00049912e+00  6.76828151e-01  7.26719066e-01  9.08770407e-01\n",
      "   1.65265389e+00  7.43258913e-01]\n",
      " [-3.25130621e-01 -1.42520022e-01 -1.04786438e-01 -9.73595867e-02\n",
      "  -1.73521340e-01 -4.06535161e-02]\n",
      " [ 1.46292810e+00  1.20205134e+00  1.21583995e+00  1.07046987e+00\n",
      "   6.79931506e-01  1.63062088e+00]\n",
      " [-1.12759904e+00 -1.58163156e+00 -1.62106118e+00 -1.65147109e+00\n",
      "  -1.51564768e+00 -1.71812670e+00]\n",
      " [ 8.46356125e-01  5.82287977e-01  5.79982801e-01  7.47070944e-01\n",
      "   1.25410368e+00  8.24310955e-01]\n",
      " [-8.18388198e-01 -5.73203036e-01 -5.44995235e-01 -6.18391191e-01\n",
      "  -7.65221877e-01 -1.88898052e-01]\n",
      " [ 3.62093000e+00  3.20840392e+00  3.17232349e+00  3.01984673e+00\n",
      "   1.54622165e-01  1.06781796e+00]\n",
      " [-2.32644825e-01  7.60863861e-01  7.26719066e-01  7.56054247e-01\n",
      "  -6.71850093e-01  3.88195903e-02]\n",
      " [ 1.00049912e+00  5.19261195e-01  5.31070712e-01  7.11137730e-01\n",
      "   1.34131686e+00  5.65716344e-01]\n",
      " [-4.63859314e-01 -3.63113761e-01 -3.49346881e-01 -4.38725120e-01\n",
      "  -3.65814427e-01 -3.47961223e-01]\n",
      " [-2.32644825e-01  1.51604963e-01  1.10426751e-01 -2.54931586e-02\n",
      "  -2.99896970e-01  1.85602149e-01]\n",
      " [ 7.53870329e-01  6.34810296e-01  6.77806977e-01  8.36903979e-01\n",
      "   1.49072525e+00  5.62616952e-01]\n",
      " [ 1.00049912e+00  8.97421890e-01  8.24543243e-01  7.11137730e-01\n",
      "   3.82265237e-01  1.41682127e+00]\n",
      " [-7.41316701e-01 -5.73203036e-01 -5.44995235e-01 -6.18391191e-01\n",
      "  -6.85701331e-01 -4.63749855e-01]\n",
      " [ 4.27087184e-01  5.29765659e-01  5.11505877e-01  3.24855678e-01\n",
      "   2.51625952e-01  9.94134282e-01]\n",
      " [-1.03418839e+00 -1.22447979e+00 -1.22976447e+00 -1.29213895e+00\n",
      "  -1.14838683e+00 -1.10292649e+00]\n",
      " [-7.10488103e-01 -3.63113761e-01 -3.49346881e-01 -4.38725120e-01\n",
      "  -5.72906231e-01 -2.88312534e-01]\n",
      " [ 1.04365916e+00  7.60863861e-01  8.24543243e-01  9.98603442e-01\n",
      "   1.71502958e+00  8.96766569e-01]\n",
      " [-1.09677044e+00 -1.28750657e+00 -1.29824140e+00 -1.36400538e+00\n",
      "  -1.36296823e+00 -1.31625828e+00]\n",
      " [-5.50179390e-01 -2.05546804e-01 -1.92828197e-01 -3.03975568e-01\n",
      "  -5.30946454e-01 -4.62090313e-02]\n",
      " [-6.02588008e-01 -1.95042341e-01 -2.31957868e-01 -2.23125836e-01\n",
      "  -4.12376244e-01 -2.40944458e-01]\n",
      " [-4.85439333e-01 -4.79798480e-02 -1.04786438e-01 -2.14142532e-01\n",
      "  -3.94013202e-01 -1.01764183e-01]]\n",
      "['Bream' 'Roach' 'Perch' 'Perch' 'Perch' 'Perch' 'Perch' 'Pike' 'Bream'\n",
      " 'Perch' 'Pike' 'Pike' 'Perch' 'Perch' 'Parkki' 'Perch' 'Perch' 'Pike'\n",
      " 'Perch' 'Bream' 'Parkki' 'Perch' 'Perch' 'Pike' 'Parkki' 'Bream' 'Bream'\n",
      " 'Perch' 'Perch' 'Smelt' 'Bream' 'Perch' 'Pike' 'Pike' 'Bream' 'Perch'\n",
      " 'Perch' 'Bream' 'Perch' 'Perch' 'Perch' 'Perch' 'Perch' 'Bream' 'Smelt'\n",
      " 'Perch' 'Perch' 'Perch']\n",
      "Accuracy:  0.8333333333333334\n",
      "\n",
      "Confusion matrix:  [[ 9  0  0  0  0  0  0]\n",
      " [ 0  3  0  0  0  0  0]\n",
      " [ 0  0 18  0  5  0  3]\n",
      " [ 0  0  0  7  0  0  0]\n",
      " [ 0  0  0  0  1  0  0]\n",
      " [ 0  0  0  0  0  2  0]\n",
      " [ 0  0  0  0  0  0  0]]\n",
      "\n",
      "Classification Report: \n",
      "               precision    recall  f1-score   support\n",
      "\n",
      "       Bream       1.00      1.00      1.00         9\n",
      "      Parkki       1.00      1.00      1.00         3\n",
      "       Perch       1.00      0.69      0.82        26\n",
      "        Pike       1.00      1.00      1.00         7\n",
      "       Roach       0.17      1.00      0.29         1\n",
      "       Smelt       1.00      1.00      1.00         2\n",
      "   Whitefish       0.00      0.00      0.00         0\n",
      "\n",
      "    accuracy                           0.83        48\n",
      "   macro avg       0.74      0.81      0.73        48\n",
      "weighted avg       0.98      0.83      0.89        48\n",
      "\n"
     ]
    },
    {
     "name": "stderr",
     "output_type": "stream",
     "text": [
      "C:\\Users\\nisha\\anaconda3\\envs\\tf-gpu\\lib\\site-packages\\sklearn\\metrics\\_classification.py:1248: UndefinedMetricWarning: Recall and F-score are ill-defined and being set to 0.0 in labels with no true samples. Use `zero_division` parameter to control this behavior.\n",
      "  _warn_prf(average, modifier, msg_start, len(result))\n",
      "C:\\Users\\nisha\\anaconda3\\envs\\tf-gpu\\lib\\site-packages\\sklearn\\metrics\\_classification.py:1248: UndefinedMetricWarning: Recall and F-score are ill-defined and being set to 0.0 in labels with no true samples. Use `zero_division` parameter to control this behavior.\n",
      "  _warn_prf(average, modifier, msg_start, len(result))\n",
      "C:\\Users\\nisha\\anaconda3\\envs\\tf-gpu\\lib\\site-packages\\sklearn\\metrics\\_classification.py:1248: UndefinedMetricWarning: Recall and F-score are ill-defined and being set to 0.0 in labels with no true samples. Use `zero_division` parameter to control this behavior.\n",
      "  _warn_prf(average, modifier, msg_start, len(result))\n"
     ]
    }
   ],
   "source": [
    "from sklearn.metrics import accuracy_score,classification_report, confusion_matrix, f1_score\n",
    "predict = classifier.predict(X_test)\n",
    "print(X_test)\n",
    "print(predict)\n",
    "print('Accuracy: ',accuracy_score(predict,y_test))\n",
    "print('\\nConfusion matrix: ',confusion_matrix(predict,y_test))\n",
    "print('\\nClassification Report: \\n',classification_report(predict,y_test))"
   ]
  }
 ],
 "metadata": {
  "colab": {
   "authorship_tag": "ABX9TyOsvB/iqEjYj3VN6C/JbvkE",
   "collapsed_sections": [],
   "machine_shape": "hm",
   "name": "logistic_regression.ipynb",
   "provenance": [],
   "toc_visible": true
  },
  "kernelspec": {
   "display_name": "Python 3",
   "language": "python",
   "name": "python3"
  },
  "language_info": {
   "codemirror_mode": {
    "name": "ipython",
    "version": 3
   },
   "file_extension": ".py",
   "mimetype": "text/x-python",
   "name": "python",
   "nbconvert_exporter": "python",
   "pygments_lexer": "ipython3",
   "version": "3.8.10"
  }
 },
 "nbformat": 4,
 "nbformat_minor": 4
}
